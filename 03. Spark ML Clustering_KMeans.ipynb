{
 "cells": [
  {
   "cell_type": "markdown",
   "id": "a1d4b4c0",
   "metadata": {},
   "source": [
    "# Spark Machine Learning - Clustering: K-Means"
   ]
  },
  {
   "cell_type": "markdown",
   "id": "0527461c",
   "metadata": {},
   "source": [
    "Clustering ist eine der wichtigsten Methoden des unüberwachten Lernens, bei der im Gegensatz zu überwachten Verfahren keine Zielvariable (Label) vorgegeben ist. Während im überwachten Lernen das Modell eine Zielvariable vorhersagt, sucht das Clustering stattdessen nach natürlichen Gruppierungen in den Daten. In diesem Projekt wird die Clustering-Methode auf einen Churn-Datensatz angewendet, wobei das vorhandene Label bewusst ignoriert wird. Unter den verschiedenen Clustering-Algorithmen ist K-Means einer der am häufigsten verwendeten. Die praktische Anwendung von K-Means wird in diesem Projekt ausführlich demonstriert."
   ]
  },
  {
   "cell_type": "code",
   "execution_count": 1,
   "id": "29eed823",
   "metadata": {},
   "outputs": [],
   "source": [
    "import findspark"
   ]
  },
  {
   "cell_type": "code",
   "execution_count": 2,
   "id": "a984aa45",
   "metadata": {},
   "outputs": [],
   "source": [
    "findspark.init(\"/opt/manual/spark\")"
   ]
  },
  {
   "cell_type": "code",
   "execution_count": 3,
   "id": "93e698be",
   "metadata": {},
   "outputs": [],
   "source": [
    "from pyspark.sql import SparkSession, functions as F\n",
    "import pandas as pd"
   ]
  },
  {
   "cell_type": "markdown",
   "id": "110bb2d9",
   "metadata": {},
   "source": [
    "Erstellen und Konfigurieren einer SparkSession:"
   ]
  },
  {
   "cell_type": "code",
   "execution_count": 4,
   "id": "e4caf07c",
   "metadata": {},
   "outputs": [
    {
     "name": "stderr",
     "output_type": "stream",
     "text": [
      "WARNING: An illegal reflective access operation has occurred\n",
      "WARNING: Illegal reflective access by org.apache.spark.unsafe.Platform (file:/opt/manual/spark-3.1.1-bin-hadoop3.2/jars/spark-unsafe_2.12-3.1.1.jar) to constructor java.nio.DirectByteBuffer(long,int)\n",
      "WARNING: Please consider reporting this to the maintainers of org.apache.spark.unsafe.Platform\n",
      "WARNING: Use --illegal-access=warn to enable warnings of further illegal reflective access operations\n",
      "WARNING: All illegal access operations will be denied in a future release\n",
      "2022-06-12 23:42:47,742 WARN util.NativeCodeLoader: Unable to load native-hadoop library for your platform... using builtin-java classes where applicable\n",
      "Setting default log level to \"WARN\".\n",
      "To adjust logging level use sc.setLogLevel(newLevel). For SparkR, use setLogLevel(newLevel).\n",
      "2022-06-12 23:42:49,406 WARN yarn.Client: Neither spark.yarn.jars nor spark.yarn.archive is set, falling back to uploading libraries under SPARK_HOME.\n"
     ]
    }
   ],
   "source": [
    "spark = SparkSession.builder \\\n",
    ".appName(\"KMenas\") \\\n",
    ".master(\"yarn\") \\\n",
    ".config(\"spark.sql.shuffle.partitions\",\"2\") \\\n",
    ".getOrCreate()"
   ]
  },
  {
   "cell_type": "markdown",
   "id": "9785dd21",
   "metadata": {},
   "source": [
    "## Read Data"
   ]
  },
  {
   "cell_type": "markdown",
   "id": "769b4c9b",
   "metadata": {},
   "source": [
    "Einlesen der CSV-Datei in ein DataFrame:"
   ]
  },
  {
   "cell_type": "code",
   "execution_count": 5,
   "id": "8ab573c9",
   "metadata": {},
   "outputs": [
    {
     "name": "stderr",
     "output_type": "stream",
     "text": [
      "                                                                                \r"
     ]
    }
   ],
   "source": [
    "df = spark.read.format(\"csv\") \\\n",
    ".option(\"header\", True) \\\n",
    ".option(\"inferSchema\", True) \\\n",
    ".load(\"hdfs://localhost:9000/user/train/datasets/Churn_Modelling.csv\")"
   ]
  },
  {
   "cell_type": "code",
   "execution_count": 6,
   "id": "39fb17d5",
   "metadata": {},
   "outputs": [
    {
     "data": {
      "text/html": [
       "<div>\n",
       "<style scoped>\n",
       "    .dataframe tbody tr th:only-of-type {\n",
       "        vertical-align: middle;\n",
       "    }\n",
       "\n",
       "    .dataframe tbody tr th {\n",
       "        vertical-align: top;\n",
       "    }\n",
       "\n",
       "    .dataframe thead th {\n",
       "        text-align: right;\n",
       "    }\n",
       "</style>\n",
       "<table border=\"1\" class=\"dataframe\">\n",
       "  <thead>\n",
       "    <tr style=\"text-align: right;\">\n",
       "      <th></th>\n",
       "      <th>RowNumber</th>\n",
       "      <th>CustomerId</th>\n",
       "      <th>Surname</th>\n",
       "      <th>CreditScore</th>\n",
       "      <th>Geography</th>\n",
       "      <th>Gender</th>\n",
       "      <th>Age</th>\n",
       "      <th>Tenure</th>\n",
       "      <th>Balance</th>\n",
       "      <th>NumOfProducts</th>\n",
       "      <th>HasCrCard</th>\n",
       "      <th>IsActiveMember</th>\n",
       "      <th>EstimatedSalary</th>\n",
       "      <th>Exited</th>\n",
       "    </tr>\n",
       "  </thead>\n",
       "  <tbody>\n",
       "    <tr>\n",
       "      <th>0</th>\n",
       "      <td>1</td>\n",
       "      <td>15634602</td>\n",
       "      <td>Hargrave</td>\n",
       "      <td>619</td>\n",
       "      <td>France</td>\n",
       "      <td>Female</td>\n",
       "      <td>42</td>\n",
       "      <td>2</td>\n",
       "      <td>0.00</td>\n",
       "      <td>1</td>\n",
       "      <td>1</td>\n",
       "      <td>1</td>\n",
       "      <td>101348.88</td>\n",
       "      <td>1</td>\n",
       "    </tr>\n",
       "    <tr>\n",
       "      <th>1</th>\n",
       "      <td>2</td>\n",
       "      <td>15647311</td>\n",
       "      <td>Hill</td>\n",
       "      <td>608</td>\n",
       "      <td>Spain</td>\n",
       "      <td>Female</td>\n",
       "      <td>41</td>\n",
       "      <td>1</td>\n",
       "      <td>83807.86</td>\n",
       "      <td>1</td>\n",
       "      <td>0</td>\n",
       "      <td>1</td>\n",
       "      <td>112542.58</td>\n",
       "      <td>0</td>\n",
       "    </tr>\n",
       "    <tr>\n",
       "      <th>2</th>\n",
       "      <td>3</td>\n",
       "      <td>15619304</td>\n",
       "      <td>Onio</td>\n",
       "      <td>502</td>\n",
       "      <td>France</td>\n",
       "      <td>Female</td>\n",
       "      <td>42</td>\n",
       "      <td>8</td>\n",
       "      <td>159660.80</td>\n",
       "      <td>3</td>\n",
       "      <td>1</td>\n",
       "      <td>0</td>\n",
       "      <td>113931.57</td>\n",
       "      <td>1</td>\n",
       "    </tr>\n",
       "    <tr>\n",
       "      <th>3</th>\n",
       "      <td>4</td>\n",
       "      <td>15701354</td>\n",
       "      <td>Boni</td>\n",
       "      <td>699</td>\n",
       "      <td>France</td>\n",
       "      <td>Female</td>\n",
       "      <td>39</td>\n",
       "      <td>1</td>\n",
       "      <td>0.00</td>\n",
       "      <td>2</td>\n",
       "      <td>0</td>\n",
       "      <td>0</td>\n",
       "      <td>93826.63</td>\n",
       "      <td>0</td>\n",
       "    </tr>\n",
       "    <tr>\n",
       "      <th>4</th>\n",
       "      <td>5</td>\n",
       "      <td>15737888</td>\n",
       "      <td>Mitchell</td>\n",
       "      <td>850</td>\n",
       "      <td>Spain</td>\n",
       "      <td>Female</td>\n",
       "      <td>43</td>\n",
       "      <td>2</td>\n",
       "      <td>125510.82</td>\n",
       "      <td>1</td>\n",
       "      <td>1</td>\n",
       "      <td>1</td>\n",
       "      <td>79084.10</td>\n",
       "      <td>0</td>\n",
       "    </tr>\n",
       "  </tbody>\n",
       "</table>\n",
       "</div>"
      ],
      "text/plain": [
       "   RowNumber  CustomerId   Surname  CreditScore Geography  Gender  Age  \\\n",
       "0          1    15634602  Hargrave          619    France  Female   42   \n",
       "1          2    15647311      Hill          608     Spain  Female   41   \n",
       "2          3    15619304      Onio          502    France  Female   42   \n",
       "3          4    15701354      Boni          699    France  Female   39   \n",
       "4          5    15737888  Mitchell          850     Spain  Female   43   \n",
       "\n",
       "   Tenure    Balance  NumOfProducts  HasCrCard  IsActiveMember  \\\n",
       "0       2       0.00              1          1               1   \n",
       "1       1   83807.86              1          0               1   \n",
       "2       8  159660.80              3          1               0   \n",
       "3       1       0.00              2          0               0   \n",
       "4       2  125510.82              1          1               1   \n",
       "\n",
       "   EstimatedSalary  Exited  \n",
       "0        101348.88       1  \n",
       "1        112542.58       0  \n",
       "2        113931.57       1  \n",
       "3         93826.63       0  \n",
       "4         79084.10       0  "
      ]
     },
     "execution_count": 6,
     "metadata": {},
     "output_type": "execute_result"
    }
   ],
   "source": [
    "df.limit(5).toPandas()"
   ]
  },
  {
   "cell_type": "code",
   "execution_count": 7,
   "id": "a6efb187",
   "metadata": {},
   "outputs": [
    {
     "name": "stdout",
     "output_type": "stream",
     "text": [
      "root\n",
      " |-- RowNumber: integer (nullable = true)\n",
      " |-- CustomerId: integer (nullable = true)\n",
      " |-- Surname: string (nullable = true)\n",
      " |-- CreditScore: integer (nullable = true)\n",
      " |-- Geography: string (nullable = true)\n",
      " |-- Gender: string (nullable = true)\n",
      " |-- Age: integer (nullable = true)\n",
      " |-- Tenure: integer (nullable = true)\n",
      " |-- Balance: double (nullable = true)\n",
      " |-- NumOfProducts: integer (nullable = true)\n",
      " |-- HasCrCard: integer (nullable = true)\n",
      " |-- IsActiveMember: integer (nullable = true)\n",
      " |-- EstimatedSalary: double (nullable = true)\n",
      " |-- Exited: integer (nullable = true)\n",
      "\n"
     ]
    }
   ],
   "source": [
    "df.printSchema()"
   ]
  },
  {
   "cell_type": "markdown",
   "id": "db58e2fa",
   "metadata": {},
   "source": [
    "Die Übereinstimmung der Datentypen zwischen der Datenvorschau und dem Schema wird überprüft und es wurden keine Unstimmigkeiten festgestellt."
   ]
  },
  {
   "cell_type": "markdown",
   "id": "bb024061",
   "metadata": {},
   "source": [
    "Da der Datensatz nicht sehr groß ist, wird er im Speicher gehalten.:"
   ]
  },
  {
   "cell_type": "code",
   "execution_count": 8,
   "id": "56d4b8df",
   "metadata": {},
   "outputs": [
    {
     "data": {
      "text/plain": [
       "DataFrame[RowNumber: int, CustomerId: int, Surname: string, CreditScore: int, Geography: string, Gender: string, Age: int, Tenure: int, Balance: double, NumOfProducts: int, HasCrCard: int, IsActiveMember: int, EstimatedSalary: double, Exited: int]"
      ]
     },
     "execution_count": 8,
     "metadata": {},
     "output_type": "execute_result"
    }
   ],
   "source": [
    "df.persist()"
   ]
  },
  {
   "cell_type": "code",
   "execution_count": 9,
   "id": "5b7bf49c",
   "metadata": {},
   "outputs": [
    {
     "name": "stdout",
     "output_type": "stream",
     "text": [
      "10000\n"
     ]
    }
   ],
   "source": [
    "df_count = df.count()\n",
    "print(df_count)"
   ]
  },
  {
   "cell_type": "code",
   "execution_count": 10,
   "id": "38785571",
   "metadata": {},
   "outputs": [
    {
     "data": {
      "text/plain": [
       "14"
      ]
     },
     "execution_count": 10,
     "metadata": {},
     "output_type": "execute_result"
    }
   ],
   "source": [
    "len(df.columns)"
   ]
  },
  {
   "cell_type": "markdown",
   "id": "320be276",
   "metadata": {},
   "source": [
    "## Null Check"
   ]
  },
  {
   "cell_type": "code",
   "execution_count": 11,
   "id": "0d19f159",
   "metadata": {},
   "outputs": [],
   "source": [
    "for col_name in df.dtypes:\n",
    "    null_count = df.filter( (F.col(col_name[0]).isNull()) | (F.col(col_name[0]) == \"\")).count()\n",
    "    if(  null_count > 0 ):\n",
    "        print(\"{} {} type has {} null values % {}\".format(col_name, col_type[1], null_count, (null_count/df_count * 100)))"
   ]
  },
  {
   "cell_type": "markdown",
   "id": "aa6ea0d2",
   "metadata": {},
   "source": [
    "#No null"
   ]
  },
  {
   "cell_type": "markdown",
   "id": "74f3fda7",
   "metadata": {},
   "source": [
    "## Group Columns"
   ]
  },
  {
   "cell_type": "code",
   "execution_count": 12,
   "id": "ead4205e",
   "metadata": {},
   "outputs": [],
   "source": [
    "categoric_cols = []\n",
    "numeric_cols = []\n",
    "discarted_cols = ['RowNumber','CustomerId','Surname']\n",
    "label_col = ['Exited']\n",
    "\n",
    "# Die Zielvariable wird beibehalten, jedoch nicht verwendet."
   ]
  },
  {
   "cell_type": "code",
   "execution_count": 13,
   "id": "b4eaa8e2",
   "metadata": {},
   "outputs": [],
   "source": [
    "for col_name in df.dtypes:\n",
    "    if (col_name[0] not in discarted_cols+label_col):\n",
    "        if col_name[1] == 'string':\n",
    "            categoric_cols.append(col_name[0])\n",
    "        else: numeric_cols.append(col_name[0])"
   ]
  },
  {
   "cell_type": "code",
   "execution_count": 14,
   "id": "bd48b6b2",
   "metadata": {},
   "outputs": [
    {
     "name": "stdout",
     "output_type": "stream",
     "text": [
      "['Geography', 'Gender']\n",
      "2\n"
     ]
    }
   ],
   "source": [
    "print(categoric_cols)\n",
    "print(len(categoric_cols))"
   ]
  },
  {
   "cell_type": "code",
   "execution_count": 15,
   "id": "a2cd513c",
   "metadata": {},
   "outputs": [
    {
     "name": "stdout",
     "output_type": "stream",
     "text": [
      "['CreditScore', 'Age', 'Tenure', 'Balance', 'NumOfProducts', 'HasCrCard', 'IsActiveMember', 'EstimatedSalary']\n",
      "8\n"
     ]
    }
   ],
   "source": [
    "print(numeric_cols)\n",
    "print(len(numeric_cols))"
   ]
  },
  {
   "cell_type": "code",
   "execution_count": 16,
   "id": "54cbbbdb",
   "metadata": {},
   "outputs": [
    {
     "name": "stdout",
     "output_type": "stream",
     "text": [
      "['RowNumber', 'CustomerId', 'Surname']\n",
      "3\n"
     ]
    }
   ],
   "source": [
    "print(discarted_cols)\n",
    "print(len(discarted_cols))"
   ]
  },
  {
   "cell_type": "code",
   "execution_count": 17,
   "id": "4ff5ec05",
   "metadata": {},
   "outputs": [
    {
     "name": "stdout",
     "output_type": "stream",
     "text": [
      "['Exited']\n",
      "1\n"
     ]
    }
   ],
   "source": [
    "print(label_col)\n",
    "print(len(label_col))"
   ]
  },
  {
   "cell_type": "markdown",
   "id": "2a63fda7",
   "metadata": {},
   "source": [
    "Es sind insgesamt 10 Spalten vorhanden (8 numerische und 2 kategoriale). Auf diesen Daten wird K-Means-Clustering angewendet."
   ]
  },
  {
   "cell_type": "markdown",
   "id": "5c4426e1",
   "metadata": {},
   "source": [
    "## Trim"
   ]
  },
  {
   "cell_type": "markdown",
   "id": "0d3ed985",
   "metadata": {},
   "source": [
    "Führende und nachfolgende Leerzeichen werden aus den Werten in den kategorialen Spalten entfernt.:"
   ]
  },
  {
   "cell_type": "code",
   "execution_count": 18,
   "id": "cd5d115a",
   "metadata": {},
   "outputs": [],
   "source": [
    "for col_name in categoric_cols:\n",
    "    df1 = df.withColumn(col_name, F.trim(col_name))"
   ]
  },
  {
   "cell_type": "code",
   "execution_count": 19,
   "id": "dee29680",
   "metadata": {},
   "outputs": [
    {
     "name": "stdout",
     "output_type": "stream",
     "text": [
      "+------+-----+\n",
      "|Exited|count|\n",
      "+------+-----+\n",
      "|     1| 2037|\n",
      "|     0| 7963|\n",
      "+------+-----+\n",
      "\n"
     ]
    }
   ],
   "source": [
    "df1.select(label_col[0]).groupBy(label_col[0]).count().show()"
   ]
  },
  {
   "cell_type": "markdown",
   "id": "79be37d6",
   "metadata": {},
   "source": [
    "## Examine Categoricals"
   ]
  },
  {
   "cell_type": "code",
   "execution_count": 20,
   "id": "7675e330",
   "metadata": {},
   "outputs": [
    {
     "name": "stdout",
     "output_type": "stream",
     "text": [
      "+---------+-----+\n",
      "|Geography|count|\n",
      "+---------+-----+\n",
      "|   France| 5014|\n",
      "|  Germany| 2509|\n",
      "|    Spain| 2477|\n",
      "+---------+-----+\n",
      "\n",
      "+------+-----+\n",
      "|Gender|count|\n",
      "+------+-----+\n",
      "|Female| 4543|\n",
      "|  Male| 5457|\n",
      "+------+-----+\n",
      "\n"
     ]
    }
   ],
   "source": [
    "for col_name in categoric_cols:\n",
    "    df1.select(col_name).groupBy(col_name).count().show()"
   ]
  },
  {
   "cell_type": "markdown",
   "id": "d2cb77d1",
   "metadata": {},
   "source": [
    "## Verify Cols"
   ]
  },
  {
   "cell_type": "code",
   "execution_count": 21,
   "id": "199dc664",
   "metadata": {},
   "outputs": [
    {
     "name": "stdout",
     "output_type": "stream",
     "text": [
      "Columns verified\n"
     ]
    }
   ],
   "source": [
    "if len(df1.columns) == (len(categoric_cols)+len(numeric_cols)+len(discarted_cols+label_col)):\n",
    "    print(\"Columns verified\")\n",
    "else: print(\"There is problem with columns\")"
   ]
  },
  {
   "cell_type": "markdown",
   "id": "155f7996",
   "metadata": {},
   "source": [
    "## Select cols to Hot Coded"
   ]
  },
  {
   "cell_type": "markdown",
   "id": "b234b97e",
   "metadata": {},
   "source": [
    "Kategoriale Spalten werden für die One-Hot-Codierung ausgewählt, wenn sie mehr als zwei eindeutige Werte enthalten.:"
   ]
  },
  {
   "cell_type": "code",
   "execution_count": 22,
   "id": "2b17a89a",
   "metadata": {},
   "outputs": [],
   "source": [
    "to_be_oheded = []\n",
    "\n",
    "for col_name in categoric_cols:\n",
    "    count = df1.select(col_name).distinct().count()\n",
    "    if count > 2:\n",
    "        to_be_oheded.append(col_name)"
   ]
  },
  {
   "cell_type": "code",
   "execution_count": 23,
   "id": "ba14d4c1",
   "metadata": {},
   "outputs": [
    {
     "name": "stdout",
     "output_type": "stream",
     "text": [
      "['Geography']\n"
     ]
    }
   ],
   "source": [
    "print(to_be_oheded)"
   ]
  },
  {
   "cell_type": "markdown",
   "id": "41a093b2",
   "metadata": {},
   "source": [
    "## StringIndexer"
   ]
  },
  {
   "cell_type": "code",
   "execution_count": 24,
   "id": "57764f21",
   "metadata": {},
   "outputs": [],
   "source": [
    "from pyspark.ml.feature import StringIndexer"
   ]
  },
  {
   "cell_type": "code",
   "execution_count": 25,
   "id": "e33f9ea4",
   "metadata": {},
   "outputs": [],
   "source": [
    "# Es werden `StringIndexer`-Objekte für jede kategoriale Spalte erstellt und konfiguriert, deren Ausgabespaltennamen werden in \n",
    "# Listen gespeichert. Zudem wird eine Liste von Spalten für die One-Hot-Codierung vorbereitet, falls diese Spalten mehr als \n",
    "# zwei eindeutige Werte enthalten.\n",
    "\n",
    "\n",
    "\n",
    "my_dict = {}\n",
    "\n",
    "string_indexer_obj = []\n",
    "\n",
    "string_indexer_output_names = []\n",
    "\n",
    "ohe_input_names = []\n",
    "\n",
    "ohe_output_names = []\n",
    "\n",
    "for col_name in categoric_cols:\n",
    "    my_dict[col_name+\"_indexedobj\"] = StringIndexer() \\\n",
    "                                    .setHandleInvalid(\"skip\") \\\n",
    "                                    .setInputCol(col_name) \\\n",
    "                                    .setOutputCol(col_name+\"_indexed\")\n",
    "    string_indexer_obj.append(my_dict.get(col_name+\"_indexedobj\"))\n",
    "    string_indexer_output_names.append(col_name+\"_indexed\")\n",
    "\n",
    "    if col_name in to_be_oheded:\n",
    "        ohe_input_names.append(col_name+\"_indexed\")\n",
    "        ohe_output_names.append(col_name+\"_ohe\")\n",
    "    "
   ]
  },
  {
   "cell_type": "code",
   "execution_count": 26,
   "id": "b882a54e",
   "metadata": {},
   "outputs": [
    {
     "name": "stdout",
     "output_type": "stream",
     "text": [
      "[StringIndexer_1bdecbee1a55, StringIndexer_4d08677fb931]\n"
     ]
    }
   ],
   "source": [
    "print(string_indexer_obj)"
   ]
  },
  {
   "cell_type": "code",
   "execution_count": 27,
   "id": "2d005957",
   "metadata": {},
   "outputs": [
    {
     "name": "stdout",
     "output_type": "stream",
     "text": [
      "['Geography_indexed', 'Gender_indexed']\n"
     ]
    }
   ],
   "source": [
    "print(string_indexer_output_names)"
   ]
  },
  {
   "cell_type": "code",
   "execution_count": 28,
   "id": "917ea970",
   "metadata": {},
   "outputs": [
    {
     "name": "stdout",
     "output_type": "stream",
     "text": [
      "['Geography_indexed']\n"
     ]
    }
   ],
   "source": [
    "print(ohe_input_names)"
   ]
  },
  {
   "cell_type": "code",
   "execution_count": 29,
   "id": "e361a6a8",
   "metadata": {},
   "outputs": [
    {
     "name": "stdout",
     "output_type": "stream",
     "text": [
      "['Geography_ohe']\n"
     ]
    }
   ],
   "source": [
    "print(ohe_output_names)"
   ]
  },
  {
   "cell_type": "markdown",
   "id": "d57f8337",
   "metadata": {},
   "source": [
    "## OneHotEncoder"
   ]
  },
  {
   "cell_type": "code",
   "execution_count": 30,
   "id": "5d05c1a1",
   "metadata": {},
   "outputs": [],
   "source": [
    "from pyspark.ml.feature import OneHotEncoder"
   ]
  },
  {
   "cell_type": "code",
   "execution_count": 31,
   "id": "a9da6c07",
   "metadata": {},
   "outputs": [
    {
     "name": "stdout",
     "output_type": "stream",
     "text": [
      "['Gender_indexed']\n"
     ]
    }
   ],
   "source": [
    "string_indexer_ohe_excluded = list(set(string_indexer_output_names).difference(set(ohe_input_names)))\n",
    "print(string_indexer_ohe_excluded)"
   ]
  },
  {
   "cell_type": "code",
   "execution_count": 32,
   "id": "59f67e94",
   "metadata": {},
   "outputs": [],
   "source": [
    "encoder = OneHotEncoder().setInputCols(ohe_input_names).setOutputCols(ohe_output_names)"
   ]
  },
  {
   "cell_type": "markdown",
   "id": "e1fefbc6",
   "metadata": {},
   "source": [
    "## Vector Assembler"
   ]
  },
  {
   "cell_type": "code",
   "execution_count": 33,
   "id": "53dcc6af",
   "metadata": {},
   "outputs": [],
   "source": [
    "from pyspark.ml.feature import VectorAssembler"
   ]
  },
  {
   "cell_type": "code",
   "execution_count": 34,
   "id": "4aec3558",
   "metadata": {},
   "outputs": [],
   "source": [
    "assembler = VectorAssembler().setInputCols(numeric_cols+string_indexer_ohe_excluded+ohe_output_names) \\\n",
    ".setOutputCol(\"unscaled_features\")"
   ]
  },
  {
   "cell_type": "markdown",
   "id": "b4d4a1e6",
   "metadata": {},
   "source": [
    "## Scaler"
   ]
  },
  {
   "cell_type": "code",
   "execution_count": 35,
   "id": "01ec4c59",
   "metadata": {},
   "outputs": [],
   "source": [
    "from pyspark.ml.feature import StandardScaler\n",
    "scaler = StandardScaler().setInputCol(\"unscaled_features\").setOutputCol(\"features\")"
   ]
  },
  {
   "cell_type": "markdown",
   "id": "aeb6723b",
   "metadata": {},
   "source": [
    "Die Daten sind wie bei der Klassifikation bereit und unverändert. Bis zu diesem Punkt ist der Code in diesem Clustering-Projekt identisch mit dem Klassifikationsprojekt. Der Unterschied liegt im verwendeten Algorithmus: Beim Clustering, einer unüberwachten Lernmethode, kommen Cluster-Algorithmen wie K-Means zum Einsatz. Bei der Klassifikation werden hingegen Estimatoren wie Entscheidungsbäume oder Random Forest verwendet, um Modelle für die Klassifizierung zu trainieren. Daher wird in diesem Clustering-Projekt der Estimator ganz weggelassen."
   ]
  },
  {
   "cell_type": "markdown",
   "id": "f0fe8ced",
   "metadata": {},
   "source": [
    "## Pipeline"
   ]
  },
  {
   "cell_type": "code",
   "execution_count": 36,
   "id": "9c47fb33",
   "metadata": {},
   "outputs": [],
   "source": [
    "from pyspark.ml import Pipeline"
   ]
  },
  {
   "cell_type": "code",
   "execution_count": 37,
   "id": "eb02fb9f",
   "metadata": {},
   "outputs": [],
   "source": [
    "pipeline_obj = Pipeline().setStages(string_indexer_obj+[encoder, assembler, scaler])"
   ]
  },
  {
   "cell_type": "code",
   "execution_count": 38,
   "id": "161c1b5a",
   "metadata": {},
   "outputs": [
    {
     "name": "stderr",
     "output_type": "stream",
     "text": [
      "                                                                                \r"
     ]
    }
   ],
   "source": [
    "pipeline_model = pipeline_obj.fit(df1)"
   ]
  },
  {
   "cell_type": "code",
   "execution_count": 39,
   "id": "cc4e1ac9",
   "metadata": {},
   "outputs": [],
   "source": [
    "pipeline_df = pipeline_model.transform(df1)"
   ]
  },
  {
   "cell_type": "code",
   "execution_count": 40,
   "id": "395295b5",
   "metadata": {},
   "outputs": [
    {
     "data": {
      "text/html": [
       "<div>\n",
       "<style scoped>\n",
       "    .dataframe tbody tr th:only-of-type {\n",
       "        vertical-align: middle;\n",
       "    }\n",
       "\n",
       "    .dataframe tbody tr th {\n",
       "        vertical-align: top;\n",
       "    }\n",
       "\n",
       "    .dataframe thead th {\n",
       "        text-align: right;\n",
       "    }\n",
       "</style>\n",
       "<table border=\"1\" class=\"dataframe\">\n",
       "  <thead>\n",
       "    <tr style=\"text-align: right;\">\n",
       "      <th></th>\n",
       "      <th>RowNumber</th>\n",
       "      <th>CustomerId</th>\n",
       "      <th>Surname</th>\n",
       "      <th>CreditScore</th>\n",
       "      <th>Geography</th>\n",
       "      <th>Gender</th>\n",
       "      <th>Age</th>\n",
       "      <th>Tenure</th>\n",
       "      <th>Balance</th>\n",
       "      <th>NumOfProducts</th>\n",
       "      <th>HasCrCard</th>\n",
       "      <th>IsActiveMember</th>\n",
       "      <th>EstimatedSalary</th>\n",
       "      <th>Exited</th>\n",
       "      <th>Geography_indexed</th>\n",
       "      <th>Gender_indexed</th>\n",
       "      <th>Geography_ohe</th>\n",
       "      <th>unscaled_features</th>\n",
       "      <th>features</th>\n",
       "    </tr>\n",
       "  </thead>\n",
       "  <tbody>\n",
       "    <tr>\n",
       "      <th>0</th>\n",
       "      <td>1</td>\n",
       "      <td>15634602</td>\n",
       "      <td>Hargrave</td>\n",
       "      <td>619</td>\n",
       "      <td>France</td>\n",
       "      <td>Female</td>\n",
       "      <td>42</td>\n",
       "      <td>2</td>\n",
       "      <td>0.00</td>\n",
       "      <td>1</td>\n",
       "      <td>1</td>\n",
       "      <td>1</td>\n",
       "      <td>101348.88</td>\n",
       "      <td>1</td>\n",
       "      <td>0.0</td>\n",
       "      <td>1.0</td>\n",
       "      <td>(1.0, 0.0)</td>\n",
       "      <td>[619.0, 42.0, 2.0, 0.0, 1.0, 1.0, 1.0, 101348....</td>\n",
       "      <td>[6.404333924389993, 4.0046505619078925, 0.6915...</td>\n",
       "    </tr>\n",
       "    <tr>\n",
       "      <th>1</th>\n",
       "      <td>2</td>\n",
       "      <td>15647311</td>\n",
       "      <td>Hill</td>\n",
       "      <td>608</td>\n",
       "      <td>Spain</td>\n",
       "      <td>Female</td>\n",
       "      <td>41</td>\n",
       "      <td>1</td>\n",
       "      <td>83807.86</td>\n",
       "      <td>1</td>\n",
       "      <td>0</td>\n",
       "      <td>1</td>\n",
       "      <td>112542.58</td>\n",
       "      <td>0</td>\n",
       "      <td>2.0</td>\n",
       "      <td>1.0</td>\n",
       "      <td>(0.0, 0.0)</td>\n",
       "      <td>[608.0, 41.0, 1.0, 83807.86, 1.0, 0.0, 1.0, 11...</td>\n",
       "      <td>[6.2905250824379895, 3.9093017390053237, 0.345...</td>\n",
       "    </tr>\n",
       "    <tr>\n",
       "      <th>2</th>\n",
       "      <td>3</td>\n",
       "      <td>15619304</td>\n",
       "      <td>Onio</td>\n",
       "      <td>502</td>\n",
       "      <td>France</td>\n",
       "      <td>Female</td>\n",
       "      <td>42</td>\n",
       "      <td>8</td>\n",
       "      <td>159660.80</td>\n",
       "      <td>3</td>\n",
       "      <td>1</td>\n",
       "      <td>0</td>\n",
       "      <td>113931.57</td>\n",
       "      <td>1</td>\n",
       "      <td>0.0</td>\n",
       "      <td>1.0</td>\n",
       "      <td>(1.0, 0.0)</td>\n",
       "      <td>[502.0, 42.0, 8.0, 159660.8, 3.0, 1.0, 0.0, 11...</td>\n",
       "      <td>[5.193821696355051, 4.0046505619078925, 2.7660...</td>\n",
       "    </tr>\n",
       "    <tr>\n",
       "      <th>3</th>\n",
       "      <td>4</td>\n",
       "      <td>15701354</td>\n",
       "      <td>Boni</td>\n",
       "      <td>699</td>\n",
       "      <td>France</td>\n",
       "      <td>Female</td>\n",
       "      <td>39</td>\n",
       "      <td>1</td>\n",
       "      <td>0.00</td>\n",
       "      <td>2</td>\n",
       "      <td>0</td>\n",
       "      <td>0</td>\n",
       "      <td>93826.63</td>\n",
       "      <td>0</td>\n",
       "      <td>0.0</td>\n",
       "      <td>1.0</td>\n",
       "      <td>(1.0, 0.0)</td>\n",
       "      <td>[699.0, 39.0, 1.0, 0.0, 2.0, 0.0, 0.0, 93826.6...</td>\n",
       "      <td>[7.232034593131834, 3.718604093200186, 0.34576...</td>\n",
       "    </tr>\n",
       "    <tr>\n",
       "      <th>4</th>\n",
       "      <td>5</td>\n",
       "      <td>15737888</td>\n",
       "      <td>Mitchell</td>\n",
       "      <td>850</td>\n",
       "      <td>Spain</td>\n",
       "      <td>Female</td>\n",
       "      <td>43</td>\n",
       "      <td>2</td>\n",
       "      <td>125510.82</td>\n",
       "      <td>1</td>\n",
       "      <td>1</td>\n",
       "      <td>1</td>\n",
       "      <td>79084.10</td>\n",
       "      <td>0</td>\n",
       "      <td>2.0</td>\n",
       "      <td>1.0</td>\n",
       "      <td>(0.0, 0.0)</td>\n",
       "      <td>[850.0, 43.0, 2.0, 125510.82, 1.0, 1.0, 1.0, 7...</td>\n",
       "      <td>[8.794319605382057, 4.099999384810461, 0.69152...</td>\n",
       "    </tr>\n",
       "  </tbody>\n",
       "</table>\n",
       "</div>"
      ],
      "text/plain": [
       "   RowNumber  CustomerId   Surname  CreditScore Geography  Gender  Age  \\\n",
       "0          1    15634602  Hargrave          619    France  Female   42   \n",
       "1          2    15647311      Hill          608     Spain  Female   41   \n",
       "2          3    15619304      Onio          502    France  Female   42   \n",
       "3          4    15701354      Boni          699    France  Female   39   \n",
       "4          5    15737888  Mitchell          850     Spain  Female   43   \n",
       "\n",
       "   Tenure    Balance  NumOfProducts  HasCrCard  IsActiveMember  \\\n",
       "0       2       0.00              1          1               1   \n",
       "1       1   83807.86              1          0               1   \n",
       "2       8  159660.80              3          1               0   \n",
       "3       1       0.00              2          0               0   \n",
       "4       2  125510.82              1          1               1   \n",
       "\n",
       "   EstimatedSalary  Exited  Geography_indexed  Gender_indexed Geography_ohe  \\\n",
       "0        101348.88       1                0.0             1.0    (1.0, 0.0)   \n",
       "1        112542.58       0                2.0             1.0    (0.0, 0.0)   \n",
       "2        113931.57       1                0.0             1.0    (1.0, 0.0)   \n",
       "3         93826.63       0                0.0             1.0    (1.0, 0.0)   \n",
       "4         79084.10       0                2.0             1.0    (0.0, 0.0)   \n",
       "\n",
       "                                   unscaled_features  \\\n",
       "0  [619.0, 42.0, 2.0, 0.0, 1.0, 1.0, 1.0, 101348....   \n",
       "1  [608.0, 41.0, 1.0, 83807.86, 1.0, 0.0, 1.0, 11...   \n",
       "2  [502.0, 42.0, 8.0, 159660.8, 3.0, 1.0, 0.0, 11...   \n",
       "3  [699.0, 39.0, 1.0, 0.0, 2.0, 0.0, 0.0, 93826.6...   \n",
       "4  [850.0, 43.0, 2.0, 125510.82, 1.0, 1.0, 1.0, 7...   \n",
       "\n",
       "                                            features  \n",
       "0  [6.404333924389993, 4.0046505619078925, 0.6915...  \n",
       "1  [6.2905250824379895, 3.9093017390053237, 0.345...  \n",
       "2  [5.193821696355051, 4.0046505619078925, 2.7660...  \n",
       "3  [7.232034593131834, 3.718604093200186, 0.34576...  \n",
       "4  [8.794319605382057, 4.099999384810461, 0.69152...  "
      ]
     },
     "execution_count": 40,
     "metadata": {},
     "output_type": "execute_result"
    }
   ],
   "source": [
    "pipeline_df.limit(5).toPandas()"
   ]
  },
  {
   "cell_type": "markdown",
   "id": "e7275215",
   "metadata": {},
   "source": [
    "## Train Model"
   ]
  },
  {
   "cell_type": "code",
   "execution_count": 41,
   "id": "e0a6a953",
   "metadata": {},
   "outputs": [],
   "source": [
    "from pyspark.ml.clustering import KMeans"
   ]
  },
  {
   "cell_type": "code",
   "execution_count": 42,
   "id": "f59863f7",
   "metadata": {},
   "outputs": [],
   "source": [
    " def compute_kmeans_model(df, k):\n",
    "    kmeansObject = KMeans() \\\n",
    "        .setSeed(142) \\\n",
    "        .setK(k)\n",
    "    \n",
    "    return kmeansObject.fit(df)"
   ]
  },
  {
   "cell_type": "markdown",
   "id": "ea5834c4",
   "metadata": {},
   "source": [
    "## Evaluator"
   ]
  },
  {
   "cell_type": "code",
   "execution_count": 43,
   "id": "b83510a5",
   "metadata": {},
   "outputs": [],
   "source": [
    "from pyspark.ml.evaluation import ClusteringEvaluator"
   ]
  },
  {
   "cell_type": "code",
   "execution_count": 44,
   "id": "06b78349",
   "metadata": {},
   "outputs": [],
   "source": [
    "evaluator = ClusteringEvaluator()"
   ]
  },
  {
   "cell_type": "markdown",
   "id": "718c6db0",
   "metadata": {},
   "source": [
    "Bestimmung des optimalen Werts für k:"
   ]
  },
  {
   "cell_type": "code",
   "execution_count": 45,
   "id": "4bd1d7db",
   "metadata": {},
   "outputs": [
    {
     "name": "stderr",
     "output_type": "stream",
     "text": [
      "2022-06-12 23:44:46,824 WARN netlib.BLAS: Failed to load implementation from: com.github.fommil.netlib.NativeSystemBLAS\n",
      "2022-06-12 23:44:46,824 WARN netlib.BLAS: Failed to load implementation from: com.github.fommil.netlib.NativeRefBLAS\n"
     ]
    },
    {
     "name": "stdout",
     "output_type": "stream",
     "text": [
      "k: 2, score: 0.24590625242752776\n",
      "k: 3, score: 0.22645984369837002\n",
      "k: 4, score: 0.21109416946633186\n",
      "k: 5, score: 0.2016827064122783\n",
      "k: 6, score: 0.18932939099895102\n",
      "k: 7, score: 0.1852897706405449\n",
      "k: 8, score: 0.1758095043959162\n"
     ]
    },
    {
     "name": "stderr",
     "output_type": "stream",
     "text": [
      "2022-06-12 23:45:04,295 WARN storage.BlockManager: Asked to remove block broadcast_693, which does not exist\n"
     ]
    },
    {
     "name": "stdout",
     "output_type": "stream",
     "text": [
      "k: 9, score: 0.1855896305798431\n",
      "k: 10, score: 0.167440153785295\n"
     ]
    }
   ],
   "source": [
    "for k in range(2,11):\n",
    "    kmeans_model = compute_kmeans_model(pipeline_df, k)\n",
    "    \n",
    "    transformed_df = kmeans_model.transform(pipeline_df)\n",
    "    \n",
    "    score = evaluator.evaluate(transformed_df)\n",
    "    \n",
    "    print(\"k: {}, score: {}\" .format(k, score))"
   ]
  },
  {
   "cell_type": "code",
   "execution_count": 46,
   "id": "0e3b5a55",
   "metadata": {},
   "outputs": [],
   "source": [
    "kmeans_model = compute_kmeans_model(pipeline_df, 2)"
   ]
  },
  {
   "cell_type": "markdown",
   "id": "40450b18",
   "metadata": {},
   "source": [
    "## Prediction"
   ]
  },
  {
   "cell_type": "code",
   "execution_count": 47,
   "id": "dc6769a7",
   "metadata": {},
   "outputs": [],
   "source": [
    "transformed_df = kmeans_model.transform(pipeline_df)"
   ]
  },
  {
   "cell_type": "code",
   "execution_count": 48,
   "id": "7addf4d8",
   "metadata": {},
   "outputs": [
    {
     "data": {
      "text/html": [
       "<div>\n",
       "<style scoped>\n",
       "    .dataframe tbody tr th:only-of-type {\n",
       "        vertical-align: middle;\n",
       "    }\n",
       "\n",
       "    .dataframe tbody tr th {\n",
       "        vertical-align: top;\n",
       "    }\n",
       "\n",
       "    .dataframe thead th {\n",
       "        text-align: right;\n",
       "    }\n",
       "</style>\n",
       "<table border=\"1\" class=\"dataframe\">\n",
       "  <thead>\n",
       "    <tr style=\"text-align: right;\">\n",
       "      <th></th>\n",
       "      <th>RowNumber</th>\n",
       "      <th>CustomerId</th>\n",
       "      <th>Surname</th>\n",
       "      <th>CreditScore</th>\n",
       "      <th>Geography</th>\n",
       "      <th>Gender</th>\n",
       "      <th>Age</th>\n",
       "      <th>Tenure</th>\n",
       "      <th>Balance</th>\n",
       "      <th>NumOfProducts</th>\n",
       "      <th>HasCrCard</th>\n",
       "      <th>IsActiveMember</th>\n",
       "      <th>EstimatedSalary</th>\n",
       "      <th>Exited</th>\n",
       "      <th>Geography_indexed</th>\n",
       "      <th>Gender_indexed</th>\n",
       "      <th>Geography_ohe</th>\n",
       "      <th>unscaled_features</th>\n",
       "      <th>features</th>\n",
       "      <th>prediction</th>\n",
       "    </tr>\n",
       "  </thead>\n",
       "  <tbody>\n",
       "    <tr>\n",
       "      <th>0</th>\n",
       "      <td>1</td>\n",
       "      <td>15634602</td>\n",
       "      <td>Hargrave</td>\n",
       "      <td>619</td>\n",
       "      <td>France</td>\n",
       "      <td>Female</td>\n",
       "      <td>42</td>\n",
       "      <td>2</td>\n",
       "      <td>0.00</td>\n",
       "      <td>1</td>\n",
       "      <td>1</td>\n",
       "      <td>1</td>\n",
       "      <td>101348.88</td>\n",
       "      <td>1</td>\n",
       "      <td>0.0</td>\n",
       "      <td>1.0</td>\n",
       "      <td>(1.0, 0.0)</td>\n",
       "      <td>[619.0, 42.0, 2.0, 0.0, 1.0, 1.0, 1.0, 101348....</td>\n",
       "      <td>[6.404333924389993, 4.0046505619078925, 0.6915...</td>\n",
       "      <td>1</td>\n",
       "    </tr>\n",
       "    <tr>\n",
       "      <th>1</th>\n",
       "      <td>2</td>\n",
       "      <td>15647311</td>\n",
       "      <td>Hill</td>\n",
       "      <td>608</td>\n",
       "      <td>Spain</td>\n",
       "      <td>Female</td>\n",
       "      <td>41</td>\n",
       "      <td>1</td>\n",
       "      <td>83807.86</td>\n",
       "      <td>1</td>\n",
       "      <td>0</td>\n",
       "      <td>1</td>\n",
       "      <td>112542.58</td>\n",
       "      <td>0</td>\n",
       "      <td>2.0</td>\n",
       "      <td>1.0</td>\n",
       "      <td>(0.0, 0.0)</td>\n",
       "      <td>[608.0, 41.0, 1.0, 83807.86, 1.0, 0.0, 1.0, 11...</td>\n",
       "      <td>[6.2905250824379895, 3.9093017390053237, 0.345...</td>\n",
       "      <td>0</td>\n",
       "    </tr>\n",
       "    <tr>\n",
       "      <th>2</th>\n",
       "      <td>3</td>\n",
       "      <td>15619304</td>\n",
       "      <td>Onio</td>\n",
       "      <td>502</td>\n",
       "      <td>France</td>\n",
       "      <td>Female</td>\n",
       "      <td>42</td>\n",
       "      <td>8</td>\n",
       "      <td>159660.80</td>\n",
       "      <td>3</td>\n",
       "      <td>1</td>\n",
       "      <td>0</td>\n",
       "      <td>113931.57</td>\n",
       "      <td>1</td>\n",
       "      <td>0.0</td>\n",
       "      <td>1.0</td>\n",
       "      <td>(1.0, 0.0)</td>\n",
       "      <td>[502.0, 42.0, 8.0, 159660.8, 3.0, 1.0, 0.0, 11...</td>\n",
       "      <td>[5.193821696355051, 4.0046505619078925, 2.7660...</td>\n",
       "      <td>1</td>\n",
       "    </tr>\n",
       "    <tr>\n",
       "      <th>3</th>\n",
       "      <td>4</td>\n",
       "      <td>15701354</td>\n",
       "      <td>Boni</td>\n",
       "      <td>699</td>\n",
       "      <td>France</td>\n",
       "      <td>Female</td>\n",
       "      <td>39</td>\n",
       "      <td>1</td>\n",
       "      <td>0.00</td>\n",
       "      <td>2</td>\n",
       "      <td>0</td>\n",
       "      <td>0</td>\n",
       "      <td>93826.63</td>\n",
       "      <td>0</td>\n",
       "      <td>0.0</td>\n",
       "      <td>1.0</td>\n",
       "      <td>(1.0, 0.0)</td>\n",
       "      <td>[699.0, 39.0, 1.0, 0.0, 2.0, 0.0, 0.0, 93826.6...</td>\n",
       "      <td>[7.232034593131834, 3.718604093200186, 0.34576...</td>\n",
       "      <td>1</td>\n",
       "    </tr>\n",
       "    <tr>\n",
       "      <th>4</th>\n",
       "      <td>5</td>\n",
       "      <td>15737888</td>\n",
       "      <td>Mitchell</td>\n",
       "      <td>850</td>\n",
       "      <td>Spain</td>\n",
       "      <td>Female</td>\n",
       "      <td>43</td>\n",
       "      <td>2</td>\n",
       "      <td>125510.82</td>\n",
       "      <td>1</td>\n",
       "      <td>1</td>\n",
       "      <td>1</td>\n",
       "      <td>79084.10</td>\n",
       "      <td>0</td>\n",
       "      <td>2.0</td>\n",
       "      <td>1.0</td>\n",
       "      <td>(0.0, 0.0)</td>\n",
       "      <td>[850.0, 43.0, 2.0, 125510.82, 1.0, 1.0, 1.0, 7...</td>\n",
       "      <td>[8.794319605382057, 4.099999384810461, 0.69152...</td>\n",
       "      <td>0</td>\n",
       "    </tr>\n",
       "    <tr>\n",
       "      <th>5</th>\n",
       "      <td>6</td>\n",
       "      <td>15574012</td>\n",
       "      <td>Chu</td>\n",
       "      <td>645</td>\n",
       "      <td>Spain</td>\n",
       "      <td>Male</td>\n",
       "      <td>44</td>\n",
       "      <td>8</td>\n",
       "      <td>113755.78</td>\n",
       "      <td>2</td>\n",
       "      <td>1</td>\n",
       "      <td>0</td>\n",
       "      <td>149756.71</td>\n",
       "      <td>1</td>\n",
       "      <td>2.0</td>\n",
       "      <td>0.0</td>\n",
       "      <td>(0.0, 0.0)</td>\n",
       "      <td>[645.0, 44.0, 8.0, 113755.78, 2.0, 1.0, 0.0, 1...</td>\n",
       "      <td>[6.673336641731091, 4.19534820771303, 2.766084...</td>\n",
       "      <td>0</td>\n",
       "    </tr>\n",
       "    <tr>\n",
       "      <th>6</th>\n",
       "      <td>7</td>\n",
       "      <td>15592531</td>\n",
       "      <td>Bartlett</td>\n",
       "      <td>822</td>\n",
       "      <td>France</td>\n",
       "      <td>Male</td>\n",
       "      <td>50</td>\n",
       "      <td>7</td>\n",
       "      <td>0.00</td>\n",
       "      <td>2</td>\n",
       "      <td>1</td>\n",
       "      <td>1</td>\n",
       "      <td>10062.80</td>\n",
       "      <td>0</td>\n",
       "      <td>0.0</td>\n",
       "      <td>0.0</td>\n",
       "      <td>(1.0, 0.0)</td>\n",
       "      <td>[822.0, 50.0, 7.0, 0.0, 2.0, 1.0, 1.0, 10062.8...</td>\n",
       "      <td>[8.504624371322414, 4.767441145128443, 2.42032...</td>\n",
       "      <td>1</td>\n",
       "    </tr>\n",
       "    <tr>\n",
       "      <th>7</th>\n",
       "      <td>8</td>\n",
       "      <td>15656148</td>\n",
       "      <td>Obinna</td>\n",
       "      <td>376</td>\n",
       "      <td>Germany</td>\n",
       "      <td>Female</td>\n",
       "      <td>29</td>\n",
       "      <td>4</td>\n",
       "      <td>115046.74</td>\n",
       "      <td>4</td>\n",
       "      <td>1</td>\n",
       "      <td>0</td>\n",
       "      <td>119346.88</td>\n",
       "      <td>1</td>\n",
       "      <td>1.0</td>\n",
       "      <td>1.0</td>\n",
       "      <td>(0.0, 1.0)</td>\n",
       "      <td>[376.0, 29.0, 4.0, 115046.74, 4.0, 1.0, 0.0, 1...</td>\n",
       "      <td>[3.8901931430866514, 2.765115864174497, 1.3830...</td>\n",
       "      <td>0</td>\n",
       "    </tr>\n",
       "    <tr>\n",
       "      <th>8</th>\n",
       "      <td>9</td>\n",
       "      <td>15792365</td>\n",
       "      <td>He</td>\n",
       "      <td>501</td>\n",
       "      <td>France</td>\n",
       "      <td>Male</td>\n",
       "      <td>44</td>\n",
       "      <td>4</td>\n",
       "      <td>142051.07</td>\n",
       "      <td>2</td>\n",
       "      <td>0</td>\n",
       "      <td>1</td>\n",
       "      <td>74940.50</td>\n",
       "      <td>0</td>\n",
       "      <td>0.0</td>\n",
       "      <td>0.0</td>\n",
       "      <td>(1.0, 0.0)</td>\n",
       "      <td>[501.0, 44.0, 4.0, 142051.07, 2.0, 0.0, 1.0, 7...</td>\n",
       "      <td>[5.183475437995778, 4.19534820771303, 1.383042...</td>\n",
       "      <td>1</td>\n",
       "    </tr>\n",
       "    <tr>\n",
       "      <th>9</th>\n",
       "      <td>10</td>\n",
       "      <td>15592389</td>\n",
       "      <td>H?</td>\n",
       "      <td>684</td>\n",
       "      <td>France</td>\n",
       "      <td>Male</td>\n",
       "      <td>27</td>\n",
       "      <td>2</td>\n",
       "      <td>134603.88</td>\n",
       "      <td>1</td>\n",
       "      <td>1</td>\n",
       "      <td>1</td>\n",
       "      <td>71725.73</td>\n",
       "      <td>0</td>\n",
       "      <td>0.0</td>\n",
       "      <td>0.0</td>\n",
       "      <td>(1.0, 0.0)</td>\n",
       "      <td>[684.0, 27.0, 2.0, 134603.88, 1.0, 1.0, 1.0, 7...</td>\n",
       "      <td>[7.076840717742739, 2.5744182183693596, 0.6915...</td>\n",
       "      <td>1</td>\n",
       "    </tr>\n",
       "  </tbody>\n",
       "</table>\n",
       "</div>"
      ],
      "text/plain": [
       "   RowNumber  CustomerId   Surname  CreditScore Geography  Gender  Age  \\\n",
       "0          1    15634602  Hargrave          619    France  Female   42   \n",
       "1          2    15647311      Hill          608     Spain  Female   41   \n",
       "2          3    15619304      Onio          502    France  Female   42   \n",
       "3          4    15701354      Boni          699    France  Female   39   \n",
       "4          5    15737888  Mitchell          850     Spain  Female   43   \n",
       "5          6    15574012       Chu          645     Spain    Male   44   \n",
       "6          7    15592531  Bartlett          822    France    Male   50   \n",
       "7          8    15656148    Obinna          376   Germany  Female   29   \n",
       "8          9    15792365        He          501    France    Male   44   \n",
       "9         10    15592389        H?          684    France    Male   27   \n",
       "\n",
       "   Tenure    Balance  NumOfProducts  HasCrCard  IsActiveMember  \\\n",
       "0       2       0.00              1          1               1   \n",
       "1       1   83807.86              1          0               1   \n",
       "2       8  159660.80              3          1               0   \n",
       "3       1       0.00              2          0               0   \n",
       "4       2  125510.82              1          1               1   \n",
       "5       8  113755.78              2          1               0   \n",
       "6       7       0.00              2          1               1   \n",
       "7       4  115046.74              4          1               0   \n",
       "8       4  142051.07              2          0               1   \n",
       "9       2  134603.88              1          1               1   \n",
       "\n",
       "   EstimatedSalary  Exited  Geography_indexed  Gender_indexed Geography_ohe  \\\n",
       "0        101348.88       1                0.0             1.0    (1.0, 0.0)   \n",
       "1        112542.58       0                2.0             1.0    (0.0, 0.0)   \n",
       "2        113931.57       1                0.0             1.0    (1.0, 0.0)   \n",
       "3         93826.63       0                0.0             1.0    (1.0, 0.0)   \n",
       "4         79084.10       0                2.0             1.0    (0.0, 0.0)   \n",
       "5        149756.71       1                2.0             0.0    (0.0, 0.0)   \n",
       "6         10062.80       0                0.0             0.0    (1.0, 0.0)   \n",
       "7        119346.88       1                1.0             1.0    (0.0, 1.0)   \n",
       "8         74940.50       0                0.0             0.0    (1.0, 0.0)   \n",
       "9         71725.73       0                0.0             0.0    (1.0, 0.0)   \n",
       "\n",
       "                                   unscaled_features  \\\n",
       "0  [619.0, 42.0, 2.0, 0.0, 1.0, 1.0, 1.0, 101348....   \n",
       "1  [608.0, 41.0, 1.0, 83807.86, 1.0, 0.0, 1.0, 11...   \n",
       "2  [502.0, 42.0, 8.0, 159660.8, 3.0, 1.0, 0.0, 11...   \n",
       "3  [699.0, 39.0, 1.0, 0.0, 2.0, 0.0, 0.0, 93826.6...   \n",
       "4  [850.0, 43.0, 2.0, 125510.82, 1.0, 1.0, 1.0, 7...   \n",
       "5  [645.0, 44.0, 8.0, 113755.78, 2.0, 1.0, 0.0, 1...   \n",
       "6  [822.0, 50.0, 7.0, 0.0, 2.0, 1.0, 1.0, 10062.8...   \n",
       "7  [376.0, 29.0, 4.0, 115046.74, 4.0, 1.0, 0.0, 1...   \n",
       "8  [501.0, 44.0, 4.0, 142051.07, 2.0, 0.0, 1.0, 7...   \n",
       "9  [684.0, 27.0, 2.0, 134603.88, 1.0, 1.0, 1.0, 7...   \n",
       "\n",
       "                                            features  prediction  \n",
       "0  [6.404333924389993, 4.0046505619078925, 0.6915...           1  \n",
       "1  [6.2905250824379895, 3.9093017390053237, 0.345...           0  \n",
       "2  [5.193821696355051, 4.0046505619078925, 2.7660...           1  \n",
       "3  [7.232034593131834, 3.718604093200186, 0.34576...           1  \n",
       "4  [8.794319605382057, 4.099999384810461, 0.69152...           0  \n",
       "5  [6.673336641731091, 4.19534820771303, 2.766084...           0  \n",
       "6  [8.504624371322414, 4.767441145128443, 2.42032...           1  \n",
       "7  [3.8901931430866514, 2.765115864174497, 1.3830...           0  \n",
       "8  [5.183475437995778, 4.19534820771303, 1.383042...           1  \n",
       "9  [7.076840717742739, 2.5744182183693596, 0.6915...           1  "
      ]
     },
     "execution_count": 48,
     "metadata": {},
     "output_type": "execute_result"
    }
   ],
   "source": [
    "transformed_df.limit(10).toPandas()"
   ]
  },
  {
   "cell_type": "markdown",
   "id": "206a1477",
   "metadata": {},
   "source": [
    "In der letzten Spalte wird die „prediction“ angezeigt, die angibt, zu welchem Cluster die Datenpunkte gehören. Zum Vergleich dieser Vorhersagen mit den tatsächlichen Klassenzuweisungen in der Spalte „Exited“ kann der folgende Code verwendet werden:"
   ]
  },
  {
   "cell_type": "code",
   "execution_count": 49,
   "id": "92bf35d0",
   "metadata": {},
   "outputs": [
    {
     "data": {
      "text/html": [
       "<div>\n",
       "<style scoped>\n",
       "    .dataframe tbody tr th:only-of-type {\n",
       "        vertical-align: middle;\n",
       "    }\n",
       "\n",
       "    .dataframe tbody tr th {\n",
       "        vertical-align: top;\n",
       "    }\n",
       "\n",
       "    .dataframe thead th {\n",
       "        text-align: right;\n",
       "    }\n",
       "</style>\n",
       "<table border=\"1\" class=\"dataframe\">\n",
       "  <thead>\n",
       "    <tr style=\"text-align: right;\">\n",
       "      <th></th>\n",
       "      <th>Exited</th>\n",
       "      <th>prediction</th>\n",
       "    </tr>\n",
       "  </thead>\n",
       "  <tbody>\n",
       "    <tr>\n",
       "      <th>0</th>\n",
       "      <td>1</td>\n",
       "      <td>1</td>\n",
       "    </tr>\n",
       "    <tr>\n",
       "      <th>1</th>\n",
       "      <td>0</td>\n",
       "      <td>0</td>\n",
       "    </tr>\n",
       "    <tr>\n",
       "      <th>2</th>\n",
       "      <td>1</td>\n",
       "      <td>1</td>\n",
       "    </tr>\n",
       "    <tr>\n",
       "      <th>3</th>\n",
       "      <td>0</td>\n",
       "      <td>1</td>\n",
       "    </tr>\n",
       "    <tr>\n",
       "      <th>4</th>\n",
       "      <td>0</td>\n",
       "      <td>0</td>\n",
       "    </tr>\n",
       "    <tr>\n",
       "      <th>5</th>\n",
       "      <td>1</td>\n",
       "      <td>0</td>\n",
       "    </tr>\n",
       "    <tr>\n",
       "      <th>6</th>\n",
       "      <td>0</td>\n",
       "      <td>1</td>\n",
       "    </tr>\n",
       "    <tr>\n",
       "      <th>7</th>\n",
       "      <td>1</td>\n",
       "      <td>0</td>\n",
       "    </tr>\n",
       "    <tr>\n",
       "      <th>8</th>\n",
       "      <td>0</td>\n",
       "      <td>1</td>\n",
       "    </tr>\n",
       "    <tr>\n",
       "      <th>9</th>\n",
       "      <td>0</td>\n",
       "      <td>1</td>\n",
       "    </tr>\n",
       "    <tr>\n",
       "      <th>10</th>\n",
       "      <td>0</td>\n",
       "      <td>1</td>\n",
       "    </tr>\n",
       "    <tr>\n",
       "      <th>11</th>\n",
       "      <td>0</td>\n",
       "      <td>1</td>\n",
       "    </tr>\n",
       "    <tr>\n",
       "      <th>12</th>\n",
       "      <td>0</td>\n",
       "      <td>1</td>\n",
       "    </tr>\n",
       "    <tr>\n",
       "      <th>13</th>\n",
       "      <td>0</td>\n",
       "      <td>1</td>\n",
       "    </tr>\n",
       "    <tr>\n",
       "      <th>14</th>\n",
       "      <td>0</td>\n",
       "      <td>1</td>\n",
       "    </tr>\n",
       "    <tr>\n",
       "      <th>15</th>\n",
       "      <td>0</td>\n",
       "      <td>0</td>\n",
       "    </tr>\n",
       "    <tr>\n",
       "      <th>16</th>\n",
       "      <td>1</td>\n",
       "      <td>0</td>\n",
       "    </tr>\n",
       "    <tr>\n",
       "      <th>17</th>\n",
       "      <td>0</td>\n",
       "      <td>1</td>\n",
       "    </tr>\n",
       "    <tr>\n",
       "      <th>18</th>\n",
       "      <td>0</td>\n",
       "      <td>1</td>\n",
       "    </tr>\n",
       "    <tr>\n",
       "      <th>19</th>\n",
       "      <td>0</td>\n",
       "      <td>1</td>\n",
       "    </tr>\n",
       "  </tbody>\n",
       "</table>\n",
       "</div>"
      ],
      "text/plain": [
       "    Exited  prediction\n",
       "0        1           1\n",
       "1        0           0\n",
       "2        1           1\n",
       "3        0           1\n",
       "4        0           0\n",
       "5        1           0\n",
       "6        0           1\n",
       "7        1           0\n",
       "8        0           1\n",
       "9        0           1\n",
       "10       0           1\n",
       "11       0           1\n",
       "12       0           1\n",
       "13       0           1\n",
       "14       0           1\n",
       "15       0           0\n",
       "16       1           0\n",
       "17       0           1\n",
       "18       0           1\n",
       "19       0           1"
      ]
     },
     "execution_count": 49,
     "metadata": {},
     "output_type": "execute_result"
    }
   ],
   "source": [
    "transformed_df.select(\"Exited\",\"prediction\").limit(20).toPandas()"
   ]
  },
  {
   "cell_type": "markdown",
   "id": "81daa209",
   "metadata": {},
   "source": [
    "Es zeigt sich, dass viele „Exited“-Werte (Churn) und „prediction“-Werte nicht übereinstimmen. Eine vollständige Übereinstimmung zwischen Clustering und Klassifizierung ist nicht immer zu erwarten, da Clusterzuweisungen nicht exakt mit Klassenzuweisungen übereinstimmen müssen. Stattdessen kann Clustering dazu verwendet werden, Daten nach anderen Kriterien zu gruppieren.\n",
    "\n",
    "Eine exakte Übereinstimmung der Cluster mit den „Exited“-Werten ist unrealistisch. Bei der Analyse physischer oder biologischer Daten kann Clustering jedoch näher an der Klassifikation liegen. Zum Beispiel kann im Iris-Datensatz, der drei Klassen enthält, ein Clustering-Algorithmus jede Blume korrekt einer bestimmten Klasse zuordnen. Die Qualität der Ergebnisse hängt von der Natur der Daten ab und kann je nach Anwendungsfall variieren."
   ]
  },
  {
   "cell_type": "code",
   "execution_count": null,
   "id": "824ad311",
   "metadata": {},
   "outputs": [],
   "source": []
  }
 ],
 "metadata": {
  "kernelspec": {
   "display_name": "venvspark",
   "language": "python",
   "name": "venvspark"
  },
  "language_info": {
   "codemirror_mode": {
    "name": "ipython",
    "version": 3
   },
   "file_extension": ".py",
   "mimetype": "text/x-python",
   "name": "python",
   "nbconvert_exporter": "python",
   "pygments_lexer": "ipython3",
   "version": "3.10.13"
  }
 },
 "nbformat": 4,
 "nbformat_minor": 5
}
